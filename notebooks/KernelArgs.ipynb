{
 "cells": [
  {
   "cell_type": "markdown",
   "metadata": {},
   "source": [
    "# KernelArgs\n",
    "\n",
    "zum hochladen auf das device brauchen wir einen host pointer, der auf das Objekt zeigt und die größe des Objektes weiß\n",
    "\n",
    "## typen\n",
    "\n",
    " - 2d dimensionale arrays lassen sich nicht trivial kopieren\n",
    "\n",
    " - fundamental types wie int, float müssen weder kopiert noch alloziert werden, es macht Sinn für diese overloads anzubieten.\n",
    "\n",
    " - alles andere muss alloziert werden\n",
    "     - für diese objekte machen z.B. smart pointer sinn, da diese es zwar nicht unmöglich machen einen pointer auf einen pointer zu richten, aber schwer\n",
    "     - andere möglichkeit wäre eventuell std::any, da dies type safe ist\n",
    "     \n",
    "______________"
   ]
  },
  {
   "cell_type": "markdown",
   "metadata": {},
   "source": [
    "### funktions overload für fundamental types\n",
    "funktionen nur für alle fundamental types zu templaten ist möglich und sollten sich leicht instantieren lassen"
   ]
  },
  {
   "cell_type": "code",
   "execution_count": 1,
   "metadata": {},
   "outputs": [],
   "source": [
    "#include <iostream>\n",
    "#include <string>\n",
    "\n",
    "template<typename T, typename = typename std::enable_if<std::is_fundamental<T>::value && std::is_const<T>::value>::type>\n",
    "std::string KernelArg(T & test) {\n",
    "    return \"const fundamental\";\n",
    "}\n",
    "\n",
    "template<typename T, typename = typename std::enable_if<!std::is_const<T>::value && std::is_fundamental<T>::value>::type>\n",
    "std::string KernelArg(T *test) {\n",
    "    return \"mutable fundamental\";\n",
    "}\n"
   ]
  },
  {
   "cell_type": "code",
   "execution_count": 2,
   "metadata": {
    "scrolled": true
   },
   "outputs": [],
   "source": [
    "int mut_int{5};\n",
    "const int const_int{5};"
   ]
  },
  {
   "cell_type": "code",
   "execution_count": 3,
   "metadata": {},
   "outputs": [
    {
     "data": {
      "text/plain": [
       "\"mutable fundamental\""
      ]
     },
     "execution_count": 3,
     "metadata": {},
     "output_type": "execute_result"
    }
   ],
   "source": [
    "KernelArg(&mut_int)"
   ]
  },
  {
   "cell_type": "code",
   "execution_count": 4,
   "metadata": {},
   "outputs": [
    {
     "data": {
      "text/plain": [
       "\"const fundamental\""
      ]
     },
     "execution_count": 4,
     "metadata": {},
     "output_type": "execute_result"
    }
   ],
   "source": [
    "KernelArg(const_int)"
   ]
  },
  {
   "cell_type": "markdown",
   "metadata": {},
   "source": [
    "### KernelArg: smart pointer\n",
    "Hier mein erster Ansatz, der entweder shared_ptr oder fundamental types nimmt,\n",
    "wobei diese in *const referenzen* und *mutable pointer* unterschieden werden\n",
    "\n",
    "const referenzen werden nicht wieder heruntergeladen"
   ]
  },
  {
   "cell_type": "code",
   "execution_count": 5,
   "metadata": {},
   "outputs": [],
   "source": [
    "#include <memory>\n",
    "\n",
    "class KernelArg1 {\n",
    "    \n",
    "    public:\n",
    "        KernelArg1(std::shared_ptr<void> hdata, size_t size, bool download = false, bool copy = true, bool upload = true) : \n",
    "            m_hdata{hdata}, m_size{size}, m_download{download}, m_copy{copy}, m_upload{upload} {}\n",
    "    \n",
    "       \n",
    "        template<typename T, typename = typename std::enable_if<!std::is_const<T>::value && std::is_fundamental<T>::value>::type>\n",
    "        KernelArg1(T *hdata, bool download) : \n",
    "            m_hptr{hdata}, m_size{0}, m_download{download}, m_copy{false}, m_upload{false} {}\n",
    "    \n",
    "        template<typename T, typename = typename std::enable_if<std::is_fundamental<T>::value && std::is_const<T>::value>::type>\n",
    "        KernelArg1(T & hdata) :\n",
    "            m_hptr{&hdata}, m_size{0}, m_download{false}, m_copy{false}, m_upload{false} {}\n",
    "    \n",
    "//         KernelArg1(int *hdata, bool download) : \n",
    "//             m_hptr{hdata}, m_size{0}, m_download{download}, m_copy{false}, m_upload{false} {}\n",
    "    \n",
    "//         KernelArg1(const int & hdata) :\n",
    "//             m_hptr{&hdata}, m_size{0}, m_download{false}, m_copy{false}, m_upload{false} {}\n",
    "    \n",
    "        std::string upload() {\n",
    "            if (m_hptr) {\n",
    "                return \"uploading m_hptr \" + std::to_string(reinterpret_cast<intptr_t>(const_cast<void*>(m_hptr)));\n",
    "            }\n",
    "            return \"uploading m_hdata \" + std::to_string(reinterpret_cast<intptr_t>(m_hdata.get()));\n",
    "        }\n",
    "\n",
    "    private:\n",
    "        std::shared_ptr<void> m_hdata; // host data\n",
    "        const void* m_hptr = nullptr;  // host data\n",
    "        const size_t m_size;   // size of object\n",
    "        const bool m_copy;     // memcopyHtoD\n",
    "        const bool m_download; // memcopyDtoH\n",
    "        const bool m_upload;   // allocate on host\n",
    "}"
   ]
  },
  {
   "cell_type": "markdown",
   "metadata": {},
   "source": [
    "anstatt m_hptr und m_hdata könnte man das vielleicht auch mit einem Union oder std::variant zusammenfassen"
   ]
  },
  {
   "cell_type": "markdown",
   "metadata": {},
   "source": [
    "### Benutzung von KernelArg1"
   ]
  },
  {
   "cell_type": "code",
   "execution_count": 6,
   "metadata": {},
   "outputs": [],
   "source": [
    "typedef struct {\n",
    "    short red;\n",
    "    short green;\n",
    "    short blue;\n",
    "} pixel;"
   ]
  },
  {
   "cell_type": "markdown",
   "metadata": {},
   "source": [
    "nun können wir ein pixel array erstellen und wie gewohnt benutzen"
   ]
  },
  {
   "cell_type": "code",
   "execution_count": 7,
   "metadata": {
    "scrolled": true
   },
   "outputs": [
    {
     "name": "stdout",
     "output_type": "stream",
     "text": [
      "image[32].red:          32\n",
      "image[32].blue:         64\n",
      "image[32].green:        96\n"
     ]
    }
   ],
   "source": [
    "const size_t SIZE = 64;\n",
    "std::shared_ptr<pixel[]> image(new pixel[SIZE]);\n",
    "\n",
    "for (size_t i{0}; i < SIZE; ++i) {\n",
    "        image[i].red = i;\n",
    "        image[i].blue = i*2;\n",
    "        image[i].green = i*3;\n",
    "    }\n",
    "    \n",
    "std::cout << \"image[32].red:          \" << image[32].red << std::endl;\n",
    "std::cout << \"image[32].blue:         \" << image[32].blue << std::endl;\n",
    "std::cout << \"image[32].green:        \" << image[32].green << std::endl;"
   ]
  },
  {
   "cell_type": "markdown",
   "metadata": {},
   "source": [
    "nun wollen wir hiermit KernelArgs erstellen und diese hochladen,\n",
    "falsche größen könnten hier nachher beim downloaden zu segfaults führen"
   ]
  },
  {
   "cell_type": "code",
   "execution_count": 8,
   "metadata": {},
   "outputs": [
    {
     "name": "stdout",
     "output_type": "stream",
     "text": [
      "uploading m_hdata 94121619169680\n",
      "uploading m_hptr 140349579019848\n"
     ]
    }
   ],
   "source": [
    "std::vector<KernelArg1> args1;\n",
    "args1.emplace_back(KernelArg1{image, SIZE * sizeof(float)}); // input array\n",
    "args1.emplace_back(KernelArg1{SIZE}); // constante\n",
    "\n",
    "for (auto &arg : args1) {\n",
    "    std::cout << arg.upload() << std::endl;\n",
    "}"
   ]
  },
  {
   "cell_type": "markdown",
   "metadata": {},
   "source": [
    "#### std::vector\n",
    "mit vektoren zu arbeiten, könnte sich hier anbieten, \n",
    "da diese ihre größe immer mitgeben\n",
    "\n",
    "std::array zwar auch, da dieses aber nur auf dem stack existiert, kommt es bei matrizen > 500 schnell auch zu segfaults"
   ]
  },
  {
   "cell_type": "code",
   "execution_count": 9,
   "metadata": {},
   "outputs": [],
   "source": [
    "#include <vector>\n",
    "\n",
    "// nicht nützlich in einer library\n",
    "template <typename T>\n",
    "size_t KernelArgVektor(std::vector<T> v) {\n",
    "    return v.size() * sizeof(T);\n",
    "}\n",
    "\n",
    "// nur fundamental types, möglich aber stark eingeschränkt\n",
    "template<typename T, \n",
    "    typename = typename std::enable_if<std::is_fundamental<T>::value>::type>\n",
    "size_t KernelArgVektorFundamental(std::vector<T> v) {\n",
    "    return v.size() * sizeof(T);\n",
    "}"
   ]
  },
  {
   "cell_type": "code",
   "execution_count": 10,
   "metadata": {
    "scrolled": true
   },
   "outputs": [],
   "source": [
    "std::vector<unsigned int> v = {7, 5, 16, 8};\n",
    "v.resize(10);"
   ]
  },
  {
   "cell_type": "code",
   "execution_count": 11,
   "metadata": {},
   "outputs": [
    {
     "data": {
      "text/plain": [
       "40"
      ]
     },
     "execution_count": 11,
     "metadata": {},
     "output_type": "execute_result"
    }
   ],
   "source": [
    "KernelArgVektor(v)"
   ]
  },
  {
   "cell_type": "code",
   "execution_count": 12,
   "metadata": {},
   "outputs": [
    {
     "data": {
      "text/plain": [
       "40"
      ]
     },
     "execution_count": 12,
     "metadata": {},
     "output_type": "execute_result"
    }
   ],
   "source": [
    "KernelArgVektorFundamental(v)"
   ]
  },
  {
   "cell_type": "markdown",
   "metadata": {},
   "source": [
    "dies muss aber entweder getemplated werden oder kann nur für fundamental Types gemacht werden, \n",
    "__keine__ benutzer definierten Typen, wie der Pixel Strukt"
   ]
  },
  {
   "cell_type": "code",
   "execution_count": 13,
   "metadata": {},
   "outputs": [
    {
     "name": "stdout",
     "output_type": "stream",
     "text": [
      "image_vector[32].red:   96\n",
      "image_vector[32].blue:  64\n",
      "image_vector[32].green: 32\n"
     ]
    }
   ],
   "source": [
    "std::vector<pixel> image_vector;\n",
    "image_vector.resize(SIZE);\n",
    "int i{0};\n",
    "for (auto &image_pixel : image_vector) {\n",
    "    image_pixel.red = i*3;\n",
    "    image_pixel.blue = i*2;\n",
    "    image_pixel.green = i++;\n",
    "}\n",
    "\n",
    "std::cout << \"image_vector[32].red:   \" << image_vector[32].red << std::endl;\n",
    "std::cout << \"image_vector[32].blue:  \" << image_vector[32].blue << std::endl;\n",
    "std::cout << \"image_vector[32].green: \" << image_vector[32].green << std::endl;"
   ]
  },
  {
   "cell_type": "markdown",
   "metadata": {},
   "source": [
    "ich weiß auch nicht, ob ein shared_ptr zu einem Vektor nicht eine *schlechte Idee* ist, \n",
    "da vektoren selbst schon ein array verwalten\n",
    "\n",
    "wird dann wenn der shared_ptr den scope verlässt der destruktor von dem vektor \n",
    "und dem smart pointer auf den selben pointer aufgerufen?"
   ]
  },
  {
   "cell_type": "code",
   "execution_count": 14,
   "metadata": {},
   "outputs": [],
   "source": [
    "std::shared_ptr<pixel> image_vector_ptr(image_vector.data());"
   ]
  },
  {
   "cell_type": "code",
   "execution_count": 15,
   "metadata": {
    "scrolled": true
   },
   "outputs": [
    {
     "name": "stdout",
     "output_type": "stream",
     "text": [
      "uploading m_hdata 94121619169680\n",
      "uploading m_hptr 140349579019848\n"
     ]
    }
   ],
   "source": [
    "std::vector<KernelArg1> args2;\n",
    "args2.emplace_back(KernelArg1{image, SIZE * sizeof(float)});\n",
    "args2.emplace_back(KernelArg1{SIZE});\n",
    "\n",
    "for (auto &arg : args2) {\n",
    "    std::cout << arg.upload() << std::endl;\n",
    "}"
   ]
  },
  {
   "cell_type": "markdown",
   "metadata": {},
   "source": [
    "### KernelArg2: move semantic\n",
    "eine Überlegung wäre auch ob man nicht Ownership der KernelArg Klasse übergeben sollte, \n",
    "damit man zwischen dem erstellen von dem KernelArg und dem hochladen nicht die Objekte dealloziert oder \n",
    "z.B. einen Vektor resized\n",
    "\n",
    "Also:\n",
    "\n",
    "  1. auto obj = make_unique\n",
    "  2. auto device_obj = KernelArg(std::move(obj))\n",
    "  3. kernel.launch()\n",
    "  4. auto host_obj = device_obj.download()"
   ]
  },
  {
   "cell_type": "code",
   "execution_count": 16,
   "metadata": {},
   "outputs": [],
   "source": [
    "class KernelArg2 {\n",
    "    \n",
    "    public:\n",
    "        KernelArg2(std::shared_ptr<void> hdata, size_t size, bool download = false, bool copy = true, bool upload = true) : \n",
    "            m_hdata{hdata}, m_size{size}, m_download{download}, m_copy{copy}, m_upload{upload} {}\n",
    "    \n",
    "        //fundamental types, hier nur int\n",
    "        KernelArg2(int *hdata, bool download) : \n",
    "            m_hptr{hdata}, m_size{0}, m_download{download}, m_copy{false}, m_upload{false} {}\n",
    "        KernelArg2(const int &hdata) :\n",
    "            m_hptr{&hdata}, m_size{0}, m_download{false}, m_copy{false}, m_upload{false} {}\n",
    "    \n",
    "        std::shared_ptr<void> download() {\n",
    "\n",
    "            return std::move(m_hdata);\n",
    "        }\n",
    "    \n",
    "    private:\n",
    "        std::shared_ptr<void> m_hdata; // host data\n",
    "        const void* m_hptr = nullptr;  // host data\n",
    "        const size_t m_size;   // size of object\n",
    "        const bool m_copy;     // memcopyHtoD\n",
    "        const bool m_download; // memcopyDtoH\n",
    "        const bool m_upload;   // allocate on host\n",
    "}\n"
   ]
  },
  {
   "cell_type": "code",
   "execution_count": 17,
   "metadata": {},
   "outputs": [
    {
     "name": "stdout",
     "output_type": "stream",
     "text": [
      "image2[32].red:   32\n",
      "image2[32].blue:  64\n",
      "image2[32].green: 96\n"
     ]
    }
   ],
   "source": [
    "std::shared_ptr<pixel[]> image2(new pixel[SIZE]);\n",
    "\n",
    "for (size_t i{0}; i < SIZE; ++i) {\n",
    "    image2[i].red = i;\n",
    "    image2[i].blue = i*2;\n",
    "    image2[i].green = i*3;\n",
    "}\n",
    "\n",
    "std::vector<KernelArg2> args3;\n",
    "\n",
    "auto device_array = KernelArg2{std::move(image2), SIZE * sizeof(float), true};\n",
    "\n",
    "args3.push_back(device_array); // input array\n",
    "args3.emplace_back(KernelArg2{SIZE}); // constante\n",
    "\n",
    "// std::cout << image2[7].red << std::endl; // leads to UB, move macht es eher schlechter\n",
    "\n",
    "// launch kernel\n",
    "\n",
    "auto output_array = std::static_pointer_cast<pixel[]>(device_array.download());\n",
    "\n",
    "std::cout << \"image2[32].red:   \" << output_array[32].red << std::endl;\n",
    "std::cout << \"image2[32].blue:  \" << output_array[32].blue << std::endl;\n",
    "std::cout << \"image2[32].green: \" << output_array[32].green << std::endl;"
   ]
  },
  {
   "cell_type": "code",
   "execution_count": 18,
   "metadata": {
    "scrolled": true
   },
   "outputs": [
    {
     "data": {
      "text/plain": [
       "8"
      ]
     },
     "execution_count": 18,
     "metadata": {},
     "output_type": "execute_result"
    }
   ],
   "source": [
    "std::vector<int> test_vector = {1,2,3,4,5,6,7,8};\n",
    "test_vector.resize(64);\n",
    "std::shared_ptr<int[]> test_vector_ptr(test_vector.data());\n",
    "\n",
    "auto test_array1 = KernelArg2{test_vector_ptr, test_vector.size() * sizeof(int), true};\n",
    "test_vector.resize(32); // should throw compiler error, hard to detect?\n",
    "test_vector_ptr[7]"
   ]
  },
  {
   "cell_type": "markdown",
   "metadata": {},
   "source": [
    "## Zusammenfassend\n",
    "\n",
    "- move semantik hilft nicht wirklich viel und verlängert nur host code\n",
    "- shared_ptr machen es schwieriger segfaults zu erreichen, aber nicht unmöglich\n",
    "- size des allozierten bereichs muss manuell berechnet werden => potentielle segfaults"
   ]
  },
  {
   "cell_type": "markdown",
   "metadata": {},
   "source": [
    "____________________________________________"
   ]
  },
  {
   "cell_type": "code",
   "execution_count": 19,
   "metadata": {},
   "outputs": [],
   "source": [
    "struct Foo {\n",
    "    Foo(int n = 0) noexcept : bar(n) {\n",
    "        std::cout << \"Foo: constructor, bar = \" << bar << '\\n';\n",
    "    }\n",
    "    ~Foo() {\n",
    "         std::cout << \"Foo: destructor, bar = \" << bar << '\\n';\n",
    "    }\n",
    "    int getBar() const noexcept { return bar; }\n",
    "private:\n",
    "    int bar;\n",
    "};"
   ]
  },
  {
   "cell_type": "code",
   "execution_count": 20,
   "metadata": {},
   "outputs": [
    {
     "name": "stdout",
     "output_type": "stream",
     "text": [
      "Foo: constructor, bar = 1\n",
      "The first Foo's bar is 1\n",
      "Foo: constructor, bar = 0\n",
      "The second Foo's bar is 0\n"
     ]
    },
    {
     "data": {
      "text/plain": [
       "@0x7fa5b599bb40"
      ]
     },
     "execution_count": 20,
     "metadata": {},
     "output_type": "execute_result"
    }
   ],
   "source": [
    "auto sptr = std::make_shared<Foo>(1);\n",
    "std::cout << \"The first Foo's bar is \" << sptr->getBar() << \"\\n\";\n",
    "\n",
    "auto foo_ptr = KernelArg2{std::move(sptr), sizeof(Foo)};\n",
    "\n",
    "sptr.reset(new Foo);\n",
    "\n",
    "std::cout << \"The second Foo's bar is \" << sptr->getBar() << \"\\n\";\n",
    "\n",
    "// launch kernel"
   ]
  },
  {
   "cell_type": "markdown",
   "metadata": {},
   "source": [
    "### KernelArg2: unique_ptr \n",
    "unique_ptr würden move semantic erzwingen und klar machen, \n",
    "dass bis zum downloaden der ptr dem Kernel gehört\n",
    "leider ist das wesentlich komplizierter, da unique_ptr keine *type-erasure* implementiert"
   ]
  },
  {
   "cell_type": "code",
   "execution_count": 21,
   "metadata": {},
   "outputs": [],
   "source": [
    "// class KernelArg3 {\n",
    "    \n",
    "//     public:\n",
    "//         KernelArg3(std::unique_ptr<void> hdata, size_t size, bool download = false, bool copy = true, bool upload = true) : \n",
    "//             m_hdata{std::move(hdata)}, m_size{size}, m_download{download}, m_copy{copy}, m_upload{upload} {}\n",
    "    \n",
    "//         //fundamental types, hier nur int\n",
    "//         KernelArg3(int *hdata, bool download) : \n",
    "//             m_hptr{hdata}, m_size{0}, m_download{download}, m_copy{false}, m_upload{false} {}\n",
    "//         KernelArg3(const int &hdata) :\n",
    "//             m_hptr{&hdata}, m_size{0}, m_download{false}, m_copy{false}, m_upload{false} {}\n",
    "    \n",
    "//         std::unique_ptr<void> download() {\n",
    "//             // return type std::variant<std::unique_ptr<void>, void*>\n",
    "//             // falls m_hptr ??\n",
    "//             return std::move(m_hdata);\n",
    "//         }\n",
    "    \n",
    "//     private:\n",
    "//         std::unique_ptr<void> m_hdata; // host data\n",
    "//         const void* m_hptr = nullptr;  // host data\n",
    "//         const size_t m_size;   // size of object\n",
    "//         const bool m_copy;     // memcopyHtoD\n",
    "//         const bool m_download; // memcopyDtoH\n",
    "//         const bool m_upload;   // allocate on host\n",
    "// }"
   ]
  },
  {
   "cell_type": "code",
   "execution_count": 22,
   "metadata": {},
   "outputs": [],
   "source": [
    "// auto image2 = std::make_unique<pixel[]>(SIZE);\n",
    "\n",
    "// for (size_t i{0}; i < SIZE; ++i) {\n",
    "//     image2[i].red = i;\n",
    "//     image2[i].blue = i*2;\n",
    "//     image2[i].green = i*3;\n",
    "// }"
   ]
  },
  {
   "cell_type": "code",
   "execution_count": 23,
   "metadata": {},
   "outputs": [],
   "source": [
    "// std::vector<KernelArg2> args3;\n",
    "\n",
    "// auto device_array = KernelArg2{std::move(image2), SIZE * sizeof(float), true};\n",
    "\n",
    "// image2[5].red = 5; \n",
    "\n",
    "// args3.push_back(device_array); // input array\n",
    "// args3.emplace_back(KernelArg2{SIZE}); // constante\n",
    "\n",
    "// // launch kernel\n",
    "\n",
    "// auto output_array = device_array.download();\n",
    "\n",
    "// std::cout << \"image2[32].red:          \" << output_array[32].red << std::endl;\n",
    "// std::cout << \"image2[32].blue:         \" << output_array[32].blue << std::endl;\n",
    "// std::cout << \"image2[32].green:        \" << output_array[32].green << std::endl;"
   ]
  }
 ],
 "metadata": {
  "kernelspec": {
   "display_name": "C++17",
   "language": "C++17",
   "name": "xcpp17"
  },
  "language_info": {
   "codemirror_mode": "text/x-c++src",
   "file_extension": ".cpp",
   "mimetype": "text/x-c++src",
   "name": "c++",
   "version": "17"
  }
 },
 "nbformat": 4,
 "nbformat_minor": 2
}
