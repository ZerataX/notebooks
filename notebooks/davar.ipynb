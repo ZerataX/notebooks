{
 "cells": [
  {
   "cell_type": "code",
   "execution_count": 1,
   "metadata": {},
   "outputs": [],
   "source": [
    "from davar.utils import Davar\n",
    "\n",
    "def translate(text, lang):\n",
    "    result = \"\"\n",
    "    for sentence in Davar.from_davartext(text).describe(lang):\n",
    "        result += f\"{sentence}\\n\"\n",
    "    return result[:-1]"
   ]
  },
  {
   "cell_type": "code",
   "execution_count": 2,
   "metadata": {},
   "outputs": [
    {
     "data": {
      "text/plain": [
       "'Python → [self → programmer (instance of)].'"
      ]
     },
     "execution_count": 2,
     "metadata": {},
     "output_type": "execute_result"
    }
   ],
   "source": [
    "translate(\"(Q28865 (P31 Q3236990 Q5482740))\", \"en\")"
   ]
  },
  {
   "cell_type": "code",
   "execution_count": 3,
   "metadata": {},
   "outputs": [
    {
     "data": {
      "text/plain": [
       "'[light → darkness] → [sound → silence] (said to be the same as).'"
      ]
     },
     "execution_count": 3,
     "metadata": {},
     "output_type": "execute_result"
    }
   ],
   "source": [
    "translate(\"(P460 (Q9128 Q204170) (Q11461 Q502261))\", \"en\")"
   ]
  },
  {
   "cell_type": "code",
   "execution_count": 4,
   "metadata": {},
   "outputs": [
    {
     "name": "stdout",
     "output_type": "stream",
     "text": [
      "past → [self → Unseen University (educated at)].\n",
      "present → [self → Twoflower (employer)].\n"
     ]
    }
   ],
   "source": [
    "print(translate(\"\"\"\n",
    "(Q192630 (P69 Q3236990 Q8460327))\n",
    "(Q193168 (P108 Q3236990 Q2599656))\n",
    "\"\"\", \"en\"))"
   ]
  },
  {
   "cell_type": "code",
   "execution_count": 5,
   "metadata": {},
   "outputs": [
    {
     "name": "stdout",
     "output_type": "stream",
     "text": [
      "pasado → [el mismo → Universidad Invisible (educado en)].\n",
      "presente → [el mismo → Dosflores (empleador)].\n"
     ]
    }
   ],
   "source": [
    "print(translate(\"\"\"\n",
    "(Q192630 (P69 Q3236990 Q8460327))\n",
    "(Q193168 (P108 Q3236990 Q2599656))\n",
    "\"\"\", \"es\"))"
   ]
  },
  {
   "cell_type": "code",
   "execution_count": null,
   "metadata": {},
   "outputs": [],
   "source": []
  }
 ],
 "metadata": {
  "kernelspec": {
   "display_name": "Python 3",
   "language": "python",
   "name": "python3"
  },
  "language_info": {
   "codemirror_mode": {
    "name": "ipython",
    "version": 3
   },
   "file_extension": ".py",
   "mimetype": "text/x-python",
   "name": "python",
   "nbconvert_exporter": "python",
   "pygments_lexer": "ipython3",
   "version": "3.8.3"
  }
 },
 "nbformat": 4,
 "nbformat_minor": 4
}
