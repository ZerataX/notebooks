{
 "cells": [
  {
   "cell_type": "code",
   "execution_count": 1,
   "metadata": {},
   "outputs": [],
   "source": [
    "#include <iostream>\n",
    "#include <algorithm>\n",
    "#include <random>\n",
    "#include <vector>"
   ]
  },
  {
   "cell_type": "raw",
   "metadata": {},
   "source": [
    "random number generator and empty float arrays"
   ]
  },
  {
   "cell_type": "code",
   "execution_count": null,
   "metadata": {},
   "outputs": [],
   "source": [
    "size_t SIZE = 2;\n",
    "size_t array_size  = SIZE*SIZE*sizeof(float);\n",
    "float *A = static_cast<float*>(malloc(array_size));\n",
    "float *B = static_cast<float*>(malloc(array_size));\n",
    "float *out = static_cast<float*>(malloc(array_size));\n",
    "\n",
    "std::random_device rd;\n",
    "std::default_random_engine dre(rd());\n",
    "std::uniform_int_distribution<int> uid(0,9);"
   ]
  },
  {
   "cell_type": "code",
   "execution_count": null,
   "metadata": {},
   "outputs": [],
   "source": [
    "void print_matrix(float *a, size_t N, size_t M) {\n",
    "  for(std::size_t i(0); i < N; ++i) {\n",
    "    for(std::size_t j(0); j < M; ++j)\n",
    "      std::cout << a[i+j*SIZE] << \" \";\n",
    "    std::cout << std::endl;\n",
    "  }\n",
    "}"
   ]
  },
  {
   "cell_type": "markdown",
   "metadata": {},
   "source": [
    "create c code with shine\n",
    "\n",
    "https://github.com/ZerataX/shine/blob/9294dedc27f2c02a14aa6dae6b4b6a1b311d6278/src/test/scala/shine/examples/matrixmultiplication.scala#L50"
   ]
  },
  {
   "cell_type": "code",
   "execution_count": null,
   "metadata": {},
   "outputs": [],
   "source": [
    "void matrixMult(float* output, int n4, float* MatrixA7, float* MatrixA8){\n",
    "  /* mapSeq */\n",
    "  for (int i_39 = 0;(i_39 < n4);i_39 = (1 + i_39)) {\n",
    "    /* mapSeq */\n",
    "    for (int i_40 = 0;(i_40 < n4);i_40 = (1 + i_40)) {\n",
    "      {\n",
    "        float x25[n4];\n",
    "        /* mapSeq */\n",
    "        for (int i_41 = 0;(i_41 < n4);i_41 = (1 + i_41)) {\n",
    "          x25[i_41] = (MatrixA8[(i_40 + (i_41 * n4))] * MatrixA7[(i_41 + (i_39 * n4))]);\n",
    "        }\n",
    "        \n",
    "        {\n",
    "          float x23;\n",
    "          x23 = 0.0f;\n",
    "          /* reduceSeq */\n",
    "          for (int i_42 = 0;(i_42 < n4);i_42 = (1 + i_42)) {\n",
    "            x23 = (x23 + x25[i_42]);\n",
    "          }\n",
    "          \n",
    "          output[(i_40 + (i_39 * n4))] = x23;\n",
    "        }\n",
    "        \n",
    "      }\n",
    "      \n",
    "    }\n",
    "    \n",
    "  }\n",
    "  \n",
    "}"
   ]
  },
  {
   "cell_type": "code",
   "execution_count": null,
   "metadata": {
    "scrolled": false
   },
   "outputs": [],
   "source": [
    "std::generate(A, A + SIZE*SIZE, [&] () { return uid(dre); });\n",
    "std::generate(B, B + SIZE*SIZE, [&] () { return uid(dre); });\n",
    "print_matrix(A, SIZE, SIZE);\n",
    "std::cout << std::endl;\n",
    "print_matrix(B, SIZE, SIZE);"
   ]
  },
  {
   "cell_type": "code",
   "execution_count": null,
   "metadata": {},
   "outputs": [],
   "source": [
    "matrixMult(out, SIZE, A, B);\n",
    "print_array(out, SIZE, SIZE);"
   ]
  },
  {
   "cell_type": "code",
   "execution_count": null,
   "metadata": {},
   "outputs": [],
   "source": [
    "matrixMult(out,\n",
    "           SIZE,\n",
    "           std::vector<float>{1,2,1,3}.data(),\n",
    "           std::vector<float>{1,2,1,3}.data());\n",
    "print_array(out, SIZE, SIZE);"
   ]
  }
 ],
 "metadata": {
  "kernelspec": {
   "display_name": "C++17",
   "language": "C++17",
   "name": "xcpp17"
  },
  "language_info": {
   "codemirror_mode": "text/x-c++src",
   "file_extension": ".cpp",
   "mimetype": "text/x-c++src",
   "name": "c++",
   "version": "17"
  }
 },
 "nbformat": 4,
 "nbformat_minor": 4
}
