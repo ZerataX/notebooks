{
 "cells": [
  {
   "cell_type": "markdown",
   "metadata": {
    "slideshow": {
     "slide_type": "slide"
    }
   },
   "source": [
    "# shine matrix multiplication\n",
    "\n",
    "testing c code generated with shine"
   ]
  },
  {
   "cell_type": "markdown",
   "metadata": {
    "slideshow": {
     "slide_type": "slide"
    }
   },
   "source": [
    "## preparation\n",
    "\n",
    "create output arrays and pretty print function"
   ]
  },
  {
   "cell_type": "code",
   "execution_count": 1,
   "metadata": {
    "slideshow": {
     "slide_type": "fragment"
    }
   },
   "outputs": [],
   "source": [
    "#include <iostream>\n",
    "#include <vector>"
   ]
  },
  {
   "cell_type": "code",
   "execution_count": 2,
   "metadata": {
    "slideshow": {
     "slide_type": "fragment"
    }
   },
   "outputs": [],
   "source": [
    "float *out = new float[2*2];\n",
    "float *outuneven = new float[4*6];"
   ]
  },
  {
   "cell_type": "code",
   "execution_count": 3,
   "metadata": {
    "slideshow": {
     "slide_type": "fragment"
    }
   },
   "outputs": [],
   "source": [
    "void print_matrix(float *a, size_t N, size_t M) {\n",
    "  for(size_t i(0); i < M; ++i) {\n",
    "    for(size_t j(0); j < N; ++j)\n",
    "      std::cout << a[i*N+j] << \" \";\n",
    "    std::cout << std::endl;\n",
    "  }\n",
    "}"
   ]
  },
  {
   "cell_type": "markdown",
   "metadata": {
    "slideshow": {
     "slide_type": "slide"
    }
   },
   "source": [
    "## n x n matrix\n",
    "\n",
    "shine code to multiply two n x n matrices"
   ]
  },
  {
   "cell_type": "markdown",
   "metadata": {
    "slideshow": {
     "slide_type": "subslide"
    }
   },
   "source": [
    "```scala\n",
    "val x = Identifier(freshName(\"x\"), ExpType(PairType(float, float), read))\n",
    "val y = Identifier(freshName(\"y\"), ExpType(float, read))\n",
    "val z = Identifier(freshName(\"z\"), ExpType(float, read))\n",
    "\n",
    "val n = NatIdentifier(freshName(\"n\"))\n",
    "val columnB = Identifier(freshName(\"columnB\"), ExpType(ArrayType(n, float), read))\n",
    "val rowA = Identifier(freshName(\"rowA\"), ExpType(ArrayType(n, float), read))\n",
    "val matrixA = Identifier(freshName(\"MatrixA\"), ExpType(ArrayType(n, ArrayType(n,float)),read))\n",
    "val matrixB = Identifier(freshName(\"MatrixA\"), ExpType(ArrayType(n, ArrayType(n,float)),read))\n",
    "\n",
    "val mul = Lambda[ExpType, ExpType](x, BinOp(Operators.Binary.MUL, Fst(float, float, x), Snd(float, float, x)))\n",
    "val add = Lambda[ExpType, FunType[ExpType, ExpType]](y, Lambda[ExpType, ExpType](z, BinOp(Operators.Binary.ADD, y, z)))\n",
    "```"
   ]
  },
  {
   "cell_type": "markdown",
   "metadata": {
    "slideshow": {
     "slide_type": "subslide"
    }
   },
   "source": [
    "```scala\n",
    "val dotproduct = Lambda[ExpType, ExpType](rowA,\n",
    "    ReduceSeq(n, float, float, add, Literal(FloatData(0.0f)),\n",
    "      MapSeq(n, PairType(float, float), float, mul,\n",
    "        Zip(n, float, float, rowA, columnB))))\n",
    "\n",
    "val matrixMult = DepLambda[NatKind](n)(Lambda[ExpType, FunType[ExpType, ExpType]](\n",
    "  matrixA, Lambda[ExpType, ExpType](matrixB,\n",
    "    MapSeq(n, ArrayType(n,float), ArrayType(n,float),\n",
    "      Lambda[ExpType, ExpType](columnB,\n",
    "        MapSeq(n, ArrayType(n,float), float,\n",
    "          dotproduct,\n",
    "          Transpose(n, n, float,matrixB))),\n",
    "      matrixA))))\n",
    "\n",
    "println(\"matrixMult:\\n \" + ProgramGenerator.makeCode(matrixMult, \"matrixMult\").code)      \n",
    "```\n",
    "https://github.com/ZerataX/shine/blob/9294dedc27f2c02a14aa6dae6b4b6a1b311d6278/src/test/scala/shine/examples/matrixmultiplication.scala#L50"
   ]
  },
  {
   "cell_type": "code",
   "execution_count": 4,
   "metadata": {
    "slideshow": {
     "slide_type": "subslide"
    }
   },
   "outputs": [],
   "source": [
    "void matrixMult(float* output, int n4, float* MatrixA7, float* MatrixA8){\n",
    "  /* mapSeq */\n",
    "  for (int i_39 = 0;(i_39 < n4);i_39 = (1 + i_39)) {\n",
    "    /* mapSeq */\n",
    "    for (int i_40 = 0;(i_40 < n4);i_40 = (1 + i_40)) {\n",
    "      {\n",
    "        float x25[n4];\n",
    "        /* mapSeq */\n",
    "        for (int i_41 = 0;(i_41 < n4);i_41 = (1 + i_41)) {\n",
    "          x25[i_41] = (MatrixA8[(i_40 + (i_41 * n4))] * MatrixA7[(i_41 + (i_39 * n4))]);\n",
    "        }\n",
    "        \n",
    "        {\n",
    "          float x23;\n",
    "          x23 = 0.0f;\n",
    "          /* reduceSeq */\n",
    "          for (int i_42 = 0;(i_42 < n4);i_42 = (1 + i_42)) {\n",
    "            x23 = (x23 + x25[i_42]);\n",
    "          }\n",
    "          \n",
    "          output[(i_40 + (i_39 * n4))] = x23;\n",
    "        }\n",
    "        \n",
    "      }\n",
    "      \n",
    "    }\n",
    "    \n",
    "  }\n",
    "  \n",
    "}"
   ]
  },
  {
   "cell_type": "markdown",
   "metadata": {
    "slideshow": {
     "slide_type": "slide"
    }
   },
   "source": [
    "$$\n",
    "\\left(\\begin{array}{cc} \n",
    "1 & 2\\\\\n",
    "1 & 3\n",
    "\\end{array}\\right)\n",
    "\\left(\\begin{array}{cc} \n",
    "1 & 8\\\\\n",
    "1 & 3\n",
    "\\end{array}\\right)=\\left (\\begin{array}{cc}\n",
    "3 & 14\\\\\n",
    "4 & 17\\\\\n",
    "\\end{array}\\right\n",
    ")\n",
    "$$ "
   ]
  },
  {
   "cell_type": "code",
   "execution_count": 5,
   "metadata": {
    "slideshow": {
     "slide_type": "fragment"
    }
   },
   "outputs": [
    {
     "name": "stdout",
     "output_type": "stream",
     "text": [
      "3 14 \n",
      "4 17 \n"
     ]
    }
   ],
   "source": [
    "matrixMult(out,\n",
    "           2,\n",
    "           std::vector<float>{1,2,1,3}.data(),\n",
    "           std::vector<float>{1,8,1,3}.data());\n",
    "print_matrix(out, 2, 2);"
   ]
  },
  {
   "cell_type": "markdown",
   "metadata": {
    "slideshow": {
     "slide_type": "slide"
    }
   },
   "source": [
    "## n x m matrix \n",
    "\n",
    "shine code to multiply a n x m matrix with a m x r matrix"
   ]
  },
  {
   "cell_type": "code",
   "execution_count": 6,
   "metadata": {
    "slideshow": {
     "slide_type": "subslide"
    }
   },
   "outputs": [],
   "source": [
    "void matrixMult2(float* output, int r6, int m5, int n4, float* MatrixA9, float* MatrixB10){\n",
    "  /* mapSeq */\n",
    "  for (int i_41 = 0;(i_41 < n4);i_41 = (1 + i_41)) {\n",
    "    /* mapSeq */\n",
    "    for (int i_42 = 0;(i_42 < r6);i_42 = (1 + i_42)) {\n",
    "      {\n",
    "        float x27[m5];\n",
    "        /* mapSeq */\n",
    "        for (int i_43 = 0;(i_43 < m5);i_43 = (1 + i_43)) {\n",
    "          x27[i_43] = (MatrixB10[(i_42 + (i_43 * r6))] * MatrixA9[(i_43 + (i_41 * m5))]);\n",
    "        }\n",
    "        \n",
    "        {\n",
    "          float x25;\n",
    "          x25 = 0.0f;\n",
    "          /* reduceSeq */\n",
    "          for (int i_44 = 0;(i_44 < m5);i_44 = (1 + i_44)) {\n",
    "            x25 = (x25 + x27[i_44]);\n",
    "          }\n",
    "          \n",
    "          output[(i_42 + (i_41 * r6))] = x25;\n",
    "        }\n",
    "        \n",
    "      }\n",
    "      \n",
    "    }\n",
    "    \n",
    "  }\n",
    "  \n",
    "}"
   ]
  },
  {
   "cell_type": "markdown",
   "metadata": {
    "slideshow": {
     "slide_type": "slide"
    }
   },
   "source": [
    "$$\n",
    "\\left(\\begin{array}{ccc} \n",
    "1 & 2 & 3\\\\\n",
    "1 & 3 & 4\\\\\n",
    "5 & 3 & 6\\\\\n",
    "9 & 3 & 3\\\\\n",
    "4 & 1 & 7\\\\\n",
    "3 & 6 & 3\n",
    "\\end{array}\\right)\n",
    "\\left(\\begin{array}{cccc} \n",
    "1 & 8 & 5 & 1\\\\\n",
    "3 & 9 & 3 & 1\\\\\n",
    "5 & 7 & 9 & 2\n",
    "\\end{array}\\right)=\\left(\\begin{matrix}\n",
    "22 & 47 & 38 & 9 \\\\\n",
    "30 & 63 & 50 & 12 \\\\\n",
    "44 & 109 & 88 & 20 \\\\\n",
    "33 & 120 & 81 & 18 \\\\\n",
    "42 & 90 & 86 & 19 \\\\\n",
    "36 & 99 & 60 & 15\n",
    "\\end{matrix}\\right)\n",
    "$$ "
   ]
  },
  {
   "cell_type": "code",
   "execution_count": 7,
   "metadata": {
    "slideshow": {
     "slide_type": "fragment"
    }
   },
   "outputs": [
    {
     "name": "stdout",
     "output_type": "stream",
     "text": [
      "22 47 38 9 \n",
      "30 63 50 12 \n",
      "44 109 88 20 \n",
      "33 120 81 18 \n",
      "42 90 86 19 \n",
      "36 99 60 15 \n"
     ]
    }
   ],
   "source": [
    "matrixMult2(outuneven, 4, 3, 6,\n",
    "           std::vector<float>{1,2,3,\n",
    "                              1,3,4,\n",
    "                              5,3,6,\n",
    "                              9,3,3,\n",
    "                              4,1,7,\n",
    "                              3,6,3}.data(),\n",
    "           std::vector<float>{1,8,5,1,\n",
    "                              3,9,3,1,\n",
    "                              5,7,9,2}.data());\n",
    "print_matrix(outuneven, 4, 6);"
   ]
  },
  {
   "cell_type": "code",
   "execution_count": null,
   "metadata": {},
   "outputs": [],
   "source": []
  }
 ],
 "metadata": {
  "celltoolbar": "Slideshow",
  "kernelspec": {
   "display_name": "C++17",
   "language": "C++17",
   "name": "xcpp17"
  },
  "language_info": {
   "codemirror_mode": "text/x-c++src",
   "file_extension": ".cpp",
   "mimetype": "text/x-c++src",
   "name": "c++",
   "version": "17"
  }
 },
 "nbformat": 4,
 "nbformat_minor": 4
}
